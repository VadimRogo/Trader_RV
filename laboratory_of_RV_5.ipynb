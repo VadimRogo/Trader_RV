{
 "cells": [
  {
   "cell_type": "code",
   "execution_count": null,
   "metadata": {},
   "outputs": [],
   "source": [
    "import pandas as pd\n",
    "from binance.client import Client\n",
    "import re\n",
    "import time\n",
    "import json\n",
    "from datetime import datetime\n",
    "import matplotlib as plt"
   ]
  },
  {
   "cell_type": "code",
   "execution_count": null,
   "metadata": {},
   "outputs": [],
   "source": [
    "api_key = 'z7Ltgm7gB1OBsvRiSPCuYOIq7CHMXEVT1ch4vnGuuxZ4I9kaKc7gwLbmd6n3HBJ2'\n",
    "api_secret = '3h3ylP3VtH6Rtvm83aoHrcI8erMjZfNeX6MAgRGnSHL1srkvu2WcJlUnH1fq59LX'\n",
    "\n",
    "\n",
    "client = Client(api_key, api_secret)\n",
    "\n",
    "tickers = client.get_all_tickers()\n",
    "tickers = pd.DataFrame(tickers)"
   ]
  },
  {
   "cell_type": "code",
   "execution_count": null,
   "metadata": {},
   "outputs": [],
   "source": [
    "whitelist = ['BONDUSDT', 'LOOMUSDT', 'STPTUSDT', 'BETAUSDT', 'AKROUSDT', 'RUNEUSDT', 'BTCUSDT', 'ETHUSDT', 'RIFUSDT', 'DIAUSDT', 'XVSUSDT', 'BTSUSDT', 'LINKUSDT']\n",
    "balances, tickets, info = [], [], []\n",
    "balance = float(client.get_asset_balance(asset='USDT')['free'])\n",
    "partOfBalance = 5.5\n",
    "signalCounter = 0"
   ]
  },
  {
   "cell_type": "code",
   "execution_count": null,
   "metadata": {},
   "outputs": [],
   "source": [
    "info = client.futures_exchange_info()\n",
    "    \n",
    "def get_precision(symbol):\n",
    "   for x in info['symbols']:\n",
    "    if x['symbol'] == symbol:\n",
    "        return x['quantityPrecision']\n",
    "\n",
    "print(get_precision('BTCUSDT'))"
   ]
  },
  {
   "cell_type": "code",
   "execution_count": null,
   "metadata": {},
   "outputs": [],
   "source": [
    "def buy(Json):\n",
    "    try:\n",
    "        \n",
    "        now = datetime.now()\n",
    "        qty = partOfBalance / round(Json['prices'][-1], get_precision(Json['symbol']) - 1)\n",
    "        order = client.create_order(\n",
    "            symbol=Json['symbol'],\n",
    "            side=Client.SIDE_BUY,\n",
    "            type=Client.ORDER_TYPE_MARKET,\n",
    "            quantity=qty\n",
    "        )\n",
    "        Ticket = {\n",
    "            'symbol' : json['symbol'],\n",
    "            'price' : json['prices'][-1],\n",
    "            'qty' : partOfBalance / json['prices'][-1],\n",
    "            'time' : now,\n",
    "            'sold' : False,\n",
    "            'status' : ''\n",
    "        }\n",
    "        tickets.append(Ticket)\n",
    "    except Exception as E:\n",
    "        print(E)\n",
    "\n",
    "def sell(ticket):\n",
    "    try:\n",
    "        order = client.create_order(\n",
    "            symbol = ticket['symbol'],\n",
    "            side = Client.SIDE_SELL,\n",
    "            type = Client.ORDER_TYPE_MARKET,\n",
    "            quatity = ticket['qty'] * 0.999\n",
    "        )\n",
    "    except Exception as E:\n",
    "        print(Exception)\n",
    "\n"
   ]
  },
  {
   "cell_type": "code",
   "execution_count": null,
   "metadata": {},
   "outputs": [],
   "source": [
    "def checkTicketsToSell(tickets, price, symbol):\n",
    "    for ticket in tickets:\n",
    "        if ticket['symbol'] == symbol:\n",
    "            if ticket['price'] > price * 0.03:\n",
    "                sell(ticket)\n",
    "                ticket['sold'] = True\n",
    "                ticket['status'] = 'gain'\n",
    "            if  ticket['price'] < price * 0.03 :\n",
    "                sell(ticket)\n",
    "                ticket['sold'] = True\n",
    "                ticket['status'] = 'loss'\n",
    "            "
   ]
  },
  {
   "cell_type": "code",
   "execution_count": null,
   "metadata": {},
   "outputs": [],
   "source": [
    "Jsons = []\n",
    "def makeCoinsJson(symbol):\n",
    "    coinJson = {\n",
    "        'symbol' : symbol,\n",
    "        'prices' : [],\n",
    "        'avg_gain' : 1,\n",
    "        'avg_loss' : 1,\n",
    "        'rsis' : [],\n",
    "        'macds' : [],\n",
    "        'long_EMA' : [],\n",
    "        'short_EMA' : [],\n",
    "        'short_diff_EMA' : [],\n",
    "        'stoch' : [],\n",
    "        'buySignal' : [False, False, False] \n",
    "    }\n",
    "    Jsons.append(coinJson)\n",
    "\n",
    "def appendPrices(Json):\n",
    "    coin = Json['symbol']\n",
    "    price = float(tickers.loc[tickers['symbol'] == f'{coin}']['price'])\n",
    "    Json['prices'].append(price)\n"
   ]
  },
  {
   "cell_type": "code",
   "execution_count": null,
   "metadata": {},
   "outputs": [],
   "source": [
    "\n",
    "def Rsis(json):\n",
    "    diff = json['prices'][-2] - json['prices'][-1]\n",
    "    if diff > 0:\n",
    "        json['avg_gain'] += diff\n",
    "        RS = json['avg_gain'] / (json['avg_loss'] * -1)\n",
    "        RSI = 100 - 100 / (1 + RS)\n",
    "        json['rsis'].append(RSI) \n",
    "    elif diff < 0:\n",
    "        json['avg_loss'] += diff\n",
    "        RS = json['avg_gain'] / (json['avg_loss'] * -1)\n",
    "        RSI = 100 - 100 / (1 + RS) \n",
    "        json['rsis'].append(RSI)\n",
    "    if len(json['rsis']) > 1:\n",
    "        if (json['rsis'][-1] < 25 and json['rsis'][-1] > 20):\n",
    "            json['buySignal'][0] = True\n",
    "    \n",
    "def Mcds(json):\n",
    "    long_EMA = sum(json['prices'][:-26:-1]) / len(json['prices'][:-26:-1])\n",
    "    short_EMA = sum(json['prices'][:-12:-1]) / len(json['prices'][:-12:-1])\n",
    "    short_diff_EMA = sum(json['prices'][:-9:-1]) / len(json['prices'][:-9:-1])\n",
    "    json['long_EMA'].append(long_EMA)\n",
    "    json['short_EMA'].append(short_EMA)\n",
    "    json['short_diff_EMA'].append(short_diff_EMA)\n",
    "    MACD = round(json['short_EMA'][-1] - json['long_EMA'][-1], 3)\n",
    "    signal = short_diff_EMA * (short_EMA - long_EMA)\n",
    "    json['macds'].append(MACD)\n",
    "    if len(json['macds']) > 10 and MACD - signal > -0.6 and MACD - signal < 0.6:\n",
    "        json['buySignal'][1] = True\n",
    "        \n",
    "def Stochastic(json):\n",
    "    priceLock = json['prices'][-1]\n",
    "    minimum = min(json['prices'][:15])\n",
    "    maximum = max(json['prices'][:15])\n",
    "    Stoch = (priceLock - minimum) / (maximum - minimum) * 100\n",
    "    json['stoch'].append(Stoch)\n",
    "    if len(json['stoch']) > 10 and Stoch < 20:\n",
    "        json['buySignal'][2] = True"
   ]
  },
  {
   "cell_type": "code",
   "execution_count": null,
   "metadata": {},
   "outputs": [],
   "source": [
    "def checkIndicators(json):\n",
    "    global signalCounter\n",
    "    if len(json['prices']) > 2:\n",
    "        Rsis(json)\n",
    "    if len(json['prices']) > 30:\n",
    "        Mcds(json)\n",
    "    if len(json['stoch']) > 15:\n",
    "        Stochastic(json)\n",
    "    for i in json['buySignal']:\n",
    "        if i == True:\n",
    "            signalCounter += 1\n",
    "        if signalCounter >= 2:\n",
    "            buy(json)\n",
    "            signalCounter = 0\n",
    "            json['buySignal'] = [False, False, False]\n",
    "            "
   ]
  },
  {
   "cell_type": "code",
   "execution_count": null,
   "metadata": {},
   "outputs": [],
   "source": []
  },
  {
   "cell_type": "code",
   "execution_count": null,
   "metadata": {},
   "outputs": [],
   "source": [
    "def makePlotBalance():\n",
    "    now = datetime.now()\n",
    "    plt.plot(*range(10), balances)\n",
    "    plt.savefig('report.png')"
   ]
  },
  {
   "cell_type": "code",
   "execution_count": null,
   "metadata": {},
   "outputs": [],
   "source": [
    "for coin in whitelist:\n",
    "    makeCoinsJson(coin)"
   ]
  },
  {
   "cell_type": "code",
   "execution_count": null,
   "metadata": {},
   "outputs": [],
   "source": [
    "def makeStatistic(tickets):\n",
    "    counterLoss = 0\n",
    "    counterGain = 0\n",
    "    for i in tickets:\n",
    "        if i['status'] == 'loss':\n",
    "            counterLoss += 1\n",
    "        elif i['status'] == 'gain':\n",
    "            counterGain += 1\n",
    "        statistic = counterGain / counterLoss * 100\n",
    "        print('Statistic - ', statistic)\n",
    "    "
   ]
  },
  {
   "cell_type": "code",
   "execution_count": 12,
   "metadata": {},
   "outputs": [],
   "source": [
    "for i in range(200):\n",
    "    tickers = client.get_all_tickers()\n",
    "    tickers = pd.DataFrame(tickers)\n",
    "    for Json in Jsons:\n",
    "        appendPrices(Json)\n",
    "        if len(Json['prices']) > 15: \n",
    "            checkIndicators(Json)\n",
    "            checkTicketsToSell(tickets, Json['prices'][-1], Json['symbol'])\n",
    "\n",
    "    time.sleep(10)\n",
    "\n",
    "coinInfo = pd.DataFrame(Jsons)\n",
    "ticketsInfo = pd.DataFrame(tickets)\n",
    "makeStatistic(tickets)\n",
    "coinInfo\n",
    "tickets\n"
   ]
  }
 ],
 "metadata": {
  "kernelspec": {
   "display_name": "Python 3",
   "language": "python",
   "name": "python3"
  },
  "language_info": {
   "codemirror_mode": {
    "name": "ipython",
    "version": 3
   },
   "file_extension": ".py",
   "mimetype": "text/x-python",
   "name": "python",
   "nbconvert_exporter": "python",
   "pygments_lexer": "ipython3",
   "version": "3.11.6"
  }
 },
 "nbformat": 4,
 "nbformat_minor": 2
}
