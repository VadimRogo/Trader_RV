{
 "cells": [
  {
   "cell_type": "code",
   "execution_count": 1,
   "metadata": {},
   "outputs": [],
   "source": [
    "import pandas as pd\n",
    "from binance.client import Client\n",
    "import re\n",
    "import time\n",
    "import json\n",
    "from datetime import datetime"
   ]
  },
  {
   "cell_type": "code",
   "execution_count": 2,
   "metadata": {},
   "outputs": [],
   "source": [
    "api_key = 'z7Ltgm7gB1OBsvRiSPCuYOIq7CHMXEVT1ch4vnGuuxZ4I9kaKc7gwLbmd6n3HBJ2'\n",
    "api_secret = '3h3ylP3VtH6Rtvm83aoHrcI8erMjZfNeX6MAgRGnSHL1srkvu2WcJlUnH1fq59LX'\n",
    "\n",
    "\n",
    "client = Client(api_key, api_secret)\n",
    "\n",
    "tickers = client.get_all_tickers()\n",
    "tickers = pd.DataFrame(tickers)"
   ]
  },
  {
   "cell_type": "code",
   "execution_count": 3,
   "metadata": {},
   "outputs": [],
   "source": [
    "whitelist = ['BONDUSDT', 'LOOMUSDT', 'STPTUSDT', 'BETAUSDT', 'AKROUSDT', 'RUNEUSDT', 'BTCUSDT', 'ETHUSDT', 'RIFUSDT', 'DIAUSDT', 'XVSUSDT', 'BTSUSDT', 'LINKUSDT']\n",
    "balances, tickets, info = [], [], []\n",
    "balance = float(client.get_asset_balance(asset='USDT')['free'])\n",
    "partOfBalance = 5.5\n",
    "signalCounter = 0"
   ]
  },
  {
   "cell_type": "code",
   "execution_count": 4,
   "metadata": {},
   "outputs": [
    {
     "name": "stdout",
     "output_type": "stream",
     "text": [
      "3\n"
     ]
    }
   ],
   "source": [
    "info = client.futures_exchange_info()\n",
    "    \n",
    "def get_precision(symbol):\n",
    "   for x in info['symbols']:\n",
    "    if x['symbol'] == symbol:\n",
    "        return x['quantityPrecision']\n",
    "\n",
    "print(get_precision('BTCUSDT'))"
   ]
  },
  {
   "cell_type": "code",
   "execution_count": 5,
   "metadata": {},
   "outputs": [],
   "source": [
    "def buy(json):\n",
    "    try:\n",
    "        \n",
    "        now = datetime.now()\n",
    "        qty = partOfBalance / round(json['prices'][-1], get_precision(json['symbol']))\n",
    "        order = client.create_order(\n",
    "            symbol=json['symbol'],\n",
    "            side=Client.SIDE_BUY,\n",
    "            type=Client.ORDER_TYPE_MARKET,\n",
    "            quantity=qty\n",
    "        )\n",
    "        Ticket = {\n",
    "            'symbol' : json['symbol'],\n",
    "            'price' : json['prices'][-1],\n",
    "            'qty' : partOfBalance / json['prices'][-1],\n",
    "            'time' : now,\n",
    "            'sold' : False,\n",
    "            'status' : ''\n",
    "        }\n",
    "        tickets.append(Ticket)\n",
    "    except Exception as E:\n",
    "        print(E)\n",
    "\n",
    "def sell(ticket):\n",
    "    try:\n",
    "        order = client.create_order(\n",
    "            symbol = ticket['symbol'],\n",
    "            side = Client.SIDE_SELL,\n",
    "            type = Client.ORDER_TYPE_MARKET,\n",
    "            quatity = ticket['qty'] * 0.999\n",
    "        )\n",
    "    except Exception as E:\n",
    "        print(Exception)\n",
    "\n",
    "def checkTicketsToSell(tickets, price, symbol):\n",
    "    for ticket in tickets:\n",
    "        if ticket['symbol'] == symbol:\n",
    "            if ticket['price'] > price * 0.03:\n",
    "                sell(ticket)\n",
    "                ticket['sold'] = True\n",
    "                ticket['status'] = 'gain'\n",
    "            if  ticket['price'] < price * 0.03 :\n",
    "                sell(ticket)\n",
    "                ticket['sold'] = True\n",
    "                ticket['status'] = 'loss'\n",
    "            "
   ]
  },
  {
   "cell_type": "code",
   "execution_count": 6,
   "metadata": {},
   "outputs": [],
   "source": [
    "jsons = []\n",
    "def makeCoinsJson(symbol):\n",
    "    coinJson = {\n",
    "        'symbol' : symbol,\n",
    "        'prices' : [],\n",
    "        'avg_gain' : 1,\n",
    "        'avg_loss' : 1,\n",
    "        'rsis' : [],\n",
    "        'macds' : [],\n",
    "        'long_EMA' : [],\n",
    "        'short_EMA' : [],\n",
    "        'short_diff_EMA' : [],\n",
    "        'stoch' : [],\n",
    "        'buySignal' : [False, False, False] \n",
    "    }\n",
    "    jsons.append(coinJson)\n",
    "\n",
    "def appendPrices(coin):\n",
    "    coin = json['symbol']\n",
    "    price = float(tickers.loc[tickers['symbol'] == f'{coin}']['price'])\n",
    "    json['prices'].append(price)\n",
    "\n",
    "def Rsis(json):\n",
    "    diff = json['prices'][-2] - json['prices'][-1]\n",
    "    if diff > 0:\n",
    "        json['avg_gain'] += diff\n",
    "        RS = json['avg_gain'] / (json['avg_loss'] * -1)\n",
    "        RSI = 100 - 100 / (1 + RS)\n",
    "        json['rsis'].append(RSI) \n",
    "    elif diff < 0:\n",
    "        json['avg_loss'] += diff\n",
    "        RS = json['avg_gain'] / (json['avg_loss'] * -1)\n",
    "        RSI = 100 - 100 / (1 + RS) \n",
    "        json['rsis'].append(RSI)\n",
    "    if len(json['rsis']) > 1:\n",
    "        if json['rsis'][-1] < 25 or json['rsis'][-1] > 75:\n",
    "            json['buySignal'][0] = True\n",
    "    \n",
    "\n",
    "def Mcds(json):\n",
    "    long_EMA = sum(json['prices'][:-26:-1]) / len(json['prices'][:-26:-1])\n",
    "    short_EMA = sum(json['prices'][:-12:-1]) / len(json['prices'][:-12:-1])\n",
    "    short_diff_EMA = sum(json['prices'][:-9:-1]) / len(json['prices'][:-9:-1])\n",
    "    json['long_EMA'].append(long_EMA)\n",
    "    json['short_EMA'].append(short_EMA)\n",
    "    json['short_diff_EMA'].append(short_diff_EMA)\n",
    "    MACD = round(json['short_EMA'][-1] - json['long_EMA'][-1], 3)\n",
    "    signal = short_diff_EMA * (short_EMA - long_EMA)\n",
    "    json['macds'].append(MACD)\n",
    "    if len(json['macds']) > 10 and MACD - signal > -0.6 and MACD - signal < 0.6:\n",
    "        json['buySignal'][1] = True\n",
    "        \n",
    "def Stochastic(json):\n",
    "    priceLock = json['prices'][-1]\n",
    "    minimum = min(json['prices'][:15])\n",
    "    maximum = max(json['prices'][:15])\n",
    "    Stoch = (priceLock - minimum) / (maximum - minimum) * 100\n",
    "    json['stoch'].append(Stoch)\n",
    "    if len(json['stoch']) > 10 and Stoch < 20:\n",
    "        json['buySignal'][2] = True"
   ]
  },
  {
   "cell_type": "code",
   "execution_count": 7,
   "metadata": {},
   "outputs": [],
   "source": [
    "def checkIndicators(json):\n",
    "    global signalCounter\n",
    "    if len(json['prices']) > 2:\n",
    "        Rsis(json)\n",
    "    if len(json['prices']) > 30:\n",
    "        Mcds(json)\n",
    "    if len(json['stoch']) > 15:\n",
    "        Stochastic(json)\n",
    "    for i in json['buySignal']:\n",
    "        if i == True:\n",
    "            signalCounter += 1\n",
    "        if signalCounter >= 2:\n",
    "            buy(json)"
   ]
  },
  {
   "cell_type": "code",
   "execution_count": 8,
   "metadata": {},
   "outputs": [],
   "source": [
    "for coin in whitelist:\n",
    "    makeCoinsJson(coin)"
   ]
  },
  {
   "cell_type": "code",
   "execution_count": 9,
   "metadata": {},
   "outputs": [
    {
     "name": "stderr",
     "output_type": "stream",
     "text": [
      "C:\\Users\\user\\AppData\\Local\\Temp\\ipykernel_12704\\4062263958.py:20: FutureWarning: Calling float on a single element Series is deprecated and will raise a TypeError in the future. Use float(ser.iloc[0]) instead\n",
      "  price = float(tickers.loc[tickers['symbol'] == f'{coin}']['price'])\n"
     ]
    },
    {
     "name": "stdout",
     "output_type": "stream",
     "text": [
      "float division by zero\n",
      "float division by zero\n",
      "float division by zero\n"
     ]
    },
    {
     "ename": "IndexError",
     "evalue": "list index out of range",
     "output_type": "error",
     "traceback": [
      "\u001b[1;31m---------------------------------------------------------------------------\u001b[0m",
      "\u001b[1;31mIndexError\u001b[0m                                Traceback (most recent call last)",
      "\u001b[1;32mc:\\Practice\\laboratory\\02\\laboratory_of_RV_5.ipynb Cell 9\u001b[0m line \u001b[0;36m7\n\u001b[0;32m      <a href='vscode-notebook-cell:/c%3A/Practice/laboratory/02/laboratory_of_RV_5.ipynb#X10sZmlsZQ%3D%3D?line=4'>5</a>\u001b[0m     appendPrices(json)\n\u001b[0;32m      <a href='vscode-notebook-cell:/c%3A/Practice/laboratory/02/laboratory_of_RV_5.ipynb#X10sZmlsZQ%3D%3D?line=5'>6</a>\u001b[0m     \u001b[39mif\u001b[39;00m \u001b[39mlen\u001b[39m(json[\u001b[39m'\u001b[39m\u001b[39mprices\u001b[39m\u001b[39m'\u001b[39m]) \u001b[39m>\u001b[39m \u001b[39m15\u001b[39m: \n\u001b[1;32m----> <a href='vscode-notebook-cell:/c%3A/Practice/laboratory/02/laboratory_of_RV_5.ipynb#X10sZmlsZQ%3D%3D?line=6'>7</a>\u001b[0m         checkIndicators(json)\n\u001b[0;32m      <a href='vscode-notebook-cell:/c%3A/Practice/laboratory/02/laboratory_of_RV_5.ipynb#X10sZmlsZQ%3D%3D?line=7'>8</a>\u001b[0m         checkTicketsToSell(tickets, json[\u001b[39m'\u001b[39m\u001b[39mprices\u001b[39m\u001b[39m'\u001b[39m][\u001b[39m-\u001b[39m\u001b[39m1\u001b[39m], json[\u001b[39m'\u001b[39m\u001b[39msymbol\u001b[39m\u001b[39m'\u001b[39m])\n\u001b[0;32m     <a href='vscode-notebook-cell:/c%3A/Practice/laboratory/02/laboratory_of_RV_5.ipynb#X10sZmlsZQ%3D%3D?line=9'>10</a>\u001b[0m time\u001b[39m.\u001b[39msleep(\u001b[39m5\u001b[39m)\n",
      "\u001b[1;32mc:\\Practice\\laboratory\\02\\laboratory_of_RV_5.ipynb Cell 9\u001b[0m line \u001b[0;36m4\n\u001b[0;32m      <a href='vscode-notebook-cell:/c%3A/Practice/laboratory/02/laboratory_of_RV_5.ipynb#X10sZmlsZQ%3D%3D?line=1'>2</a>\u001b[0m \u001b[39mglobal\u001b[39;00m signalCounter\n\u001b[0;32m      <a href='vscode-notebook-cell:/c%3A/Practice/laboratory/02/laboratory_of_RV_5.ipynb#X10sZmlsZQ%3D%3D?line=2'>3</a>\u001b[0m \u001b[39mif\u001b[39;00m \u001b[39mlen\u001b[39m(json[\u001b[39m'\u001b[39m\u001b[39mprices\u001b[39m\u001b[39m'\u001b[39m]) \u001b[39m>\u001b[39m \u001b[39m2\u001b[39m:\n\u001b[1;32m----> <a href='vscode-notebook-cell:/c%3A/Practice/laboratory/02/laboratory_of_RV_5.ipynb#X10sZmlsZQ%3D%3D?line=3'>4</a>\u001b[0m     Rsis(json)\n\u001b[0;32m      <a href='vscode-notebook-cell:/c%3A/Practice/laboratory/02/laboratory_of_RV_5.ipynb#X10sZmlsZQ%3D%3D?line=4'>5</a>\u001b[0m \u001b[39mif\u001b[39;00m \u001b[39mlen\u001b[39m(json[\u001b[39m'\u001b[39m\u001b[39mprices\u001b[39m\u001b[39m'\u001b[39m]) \u001b[39m>\u001b[39m \u001b[39m30\u001b[39m:\n\u001b[0;32m      <a href='vscode-notebook-cell:/c%3A/Practice/laboratory/02/laboratory_of_RV_5.ipynb#X10sZmlsZQ%3D%3D?line=5'>6</a>\u001b[0m     Mcds(json)\n",
      "\u001b[1;32mc:\\Practice\\laboratory\\02\\laboratory_of_RV_5.ipynb Cell 9\u001b[0m line \u001b[0;36m3\n\u001b[0;32m     <a href='vscode-notebook-cell:/c%3A/Practice/laboratory/02/laboratory_of_RV_5.ipynb#X10sZmlsZQ%3D%3D?line=32'>33</a>\u001b[0m     RSI \u001b[39m=\u001b[39m \u001b[39m100\u001b[39m \u001b[39m-\u001b[39m \u001b[39m100\u001b[39m \u001b[39m/\u001b[39m (\u001b[39m1\u001b[39m \u001b[39m+\u001b[39m RS) \n\u001b[0;32m     <a href='vscode-notebook-cell:/c%3A/Practice/laboratory/02/laboratory_of_RV_5.ipynb#X10sZmlsZQ%3D%3D?line=33'>34</a>\u001b[0m     json[\u001b[39m'\u001b[39m\u001b[39mrsis\u001b[39m\u001b[39m'\u001b[39m]\u001b[39m.\u001b[39mappend(RSI)\n\u001b[1;32m---> <a href='vscode-notebook-cell:/c%3A/Practice/laboratory/02/laboratory_of_RV_5.ipynb#X10sZmlsZQ%3D%3D?line=34'>35</a>\u001b[0m \u001b[39mif\u001b[39;00m json[\u001b[39m'\u001b[39;49m\u001b[39mrsis\u001b[39;49m\u001b[39m'\u001b[39;49m][\u001b[39m-\u001b[39;49m\u001b[39m1\u001b[39;49m] \u001b[39m<\u001b[39m \u001b[39m25\u001b[39m \u001b[39mor\u001b[39;00m json[\u001b[39m'\u001b[39m\u001b[39mrsis\u001b[39m\u001b[39m'\u001b[39m][\u001b[39m-\u001b[39m\u001b[39m1\u001b[39m] \u001b[39m>\u001b[39m \u001b[39m75\u001b[39m:\n\u001b[0;32m     <a href='vscode-notebook-cell:/c%3A/Practice/laboratory/02/laboratory_of_RV_5.ipynb#X10sZmlsZQ%3D%3D?line=35'>36</a>\u001b[0m     json[\u001b[39m'\u001b[39m\u001b[39mbuySignal\u001b[39m\u001b[39m'\u001b[39m][\u001b[39m0\u001b[39m] \u001b[39m=\u001b[39m \u001b[39mTrue\u001b[39;00m\n",
      "\u001b[1;31mIndexError\u001b[0m: list index out of range"
     ]
    }
   ],
   "source": [
    "for i in range(100):\n",
    "    tickers = client.get_all_tickers()\n",
    "    tickers = pd.DataFrame(tickers)\n",
    "    for json in jsons:\n",
    "        appendPrices(json)\n",
    "        if len(json['prices']) > 15: \n",
    "            checkIndicators(json)\n",
    "            checkTicketsToSell(tickets, json['prices'][-1], json['symbol'])\n",
    "\n",
    "    time.sleep(5)\n",
    "\n",
    "coinInfo = pd.DataFrame(jsons)\n",
    "ticketsInfo = pd.DataFrame(tickets)\n",
    "coinInfo\n",
    "tickets\n"
   ]
  },
  {
   "cell_type": "code",
   "execution_count": null,
   "metadata": {},
   "outputs": [],
   "source": []
  },
  {
   "cell_type": "code",
   "execution_count": null,
   "metadata": {},
   "outputs": [],
   "source": []
  }
 ],
 "metadata": {
  "kernelspec": {
   "display_name": "Python 3",
   "language": "python",
   "name": "python3"
  },
  "language_info": {
   "codemirror_mode": {
    "name": "ipython",
    "version": 3
   },
   "file_extension": ".py",
   "mimetype": "text/x-python",
   "name": "python",
   "nbconvert_exporter": "python",
   "pygments_lexer": "ipython3",
   "version": "3.11.6"
  }
 },
 "nbformat": 4,
 "nbformat_minor": 2
}
