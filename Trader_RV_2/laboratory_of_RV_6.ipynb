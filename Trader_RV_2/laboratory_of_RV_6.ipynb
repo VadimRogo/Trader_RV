{
 "cells": [
  {
   "cell_type": "code",
   "execution_count": null,
   "metadata": {},
   "outputs": [],
   "source": [
    "import pandas as pd\n",
    "from binance.client import Client\n",
    "import re\n",
    "import time\n",
    "import json\n",
    "from datetime import datetime\n",
    "import matplotlib as plt"
   ]
  },
  {
   "cell_type": "code",
   "execution_count": null,
   "metadata": {},
   "outputs": [],
   "source": [
    "api_key = 'z7Ltgm7gB1OBsvRiSPCuYOIq7CHMXEVT1ch4vnGuuxZ4I9kaKc7gwLbmd6n3HBJ2'\n",
    "api_secret = '3h3ylP3VtH6Rtvm83aoHrcI8erMjZfNeX6MAgRGnSHL1srkvu2WcJlUnH1fq59LX'\n",
    "\n",
    "client = Client(api_key, api_secret)\n",
    "\n",
    "tickers = client.get_all_tickers()\n",
    "tickers = pd.DataFrame(tickers)"
   ]
  },
  {
   "cell_type": "code",
   "execution_count": null,
   "metadata": {},
   "outputs": [],
   "source": [
    "whitelist = ['ETHUSDT', 'SOLUSDT', 'DOGEUSDT', 'LTCUSDT', 'SHIBUSDT', 'PLAUSDT', 'ONTUSDT', 'FARMUSDT', 'HARDUSDT', 'CHESSUSDT']\n",
    "balances, tickets, info = [], [], []\n",
    "balance = float(client.get_asset_balance(asset='USDT')['free'])\n",
    "partOfBalance = 10\n",
    "signalCounter = 0\n",
    "info = client.futures_exchange_info()\n",
    "coinInfos = []\n"
   ]
  },
  {
   "cell_type": "code",
   "execution_count": null,
   "metadata": {},
   "outputs": [],
   "source": [
    "def get_precision(symbol):\n",
    "   for x in info['symbols']:\n",
    "    if x['symbol'] == symbol:\n",
    "        return x['quantityPrecision']"
   ]
  },
  {
   "cell_type": "code",
   "execution_count": null,
   "metadata": {},
   "outputs": [],
   "source": [
    "def Rsis(CoinInfo):\n",
    "    diff = CoinInfo['prices'][-2] - CoinInfo['prices'][-1]\n",
    "    EMAUp = sum(CoinInfo) / len(CoinInfo)\n",
    "    EMADown = sum(CoinInfo) / len(CoinInfo)\n",
    "    if diff > 0:\n",
    "        CoinInfo['avg_gain'].append(diff)\n",
    "        EMAUp = sum(CoinInfo['avg_gain']) / len(CoinInfo['avg_gain'])\n",
    "        RS = CoinInfo['avg_gain'] / (CoinInfo['avg_loss'])\n",
    "        RSI = 100 - 100 / (1 + RS)\n",
    "        CoinInfo['rsis'].append(RSI) \n",
    "    elif diff < 0:\n",
    "        CoinInfo['avg_loss'].append(diff)\n",
    "        EMADown = sum(CoinInfo['avg_loss']) / len(CoinInfo['avg_loss'])\n",
    "        if EMADown < 0:\n",
    "            EMADown = EMADown * -1\n",
    "        RS = EMAUp / EMADown\n",
    "        RSI = 100 - 100 / (1 + RS) \n",
    "        CoinInfo['rsis'].append(RSI)\n",
    "    if len(CoinInfo['rsis']) > 1:\n",
    "        if (CoinInfo['rsis'][-1] < 30 and CoinInfo['rsis'][-1] > 20):\n",
    "            CoinInfo['buySignal'][0] = True\n",
    "    \n",
    "def Mcds(CoinInfo):\n",
    "    long_EMA = sum(CoinInfo['prices'][:-26:-1]) / len(CoinInfo['prices'][:-26:-1])\n",
    "    short_EMA = sum(CoinInfo['prices'][:-12:-1]) / len(CoinInfo['prices'][:-12:-1])\n",
    "    short_diff_EMA = sum(CoinInfo['prices'][:-9:-1]) / len(CoinInfo['prices'][:-9:-1])\n",
    "    CoinInfo['long_EMA'].append(long_EMA)\n",
    "    CoinInfo['short_EMA'].append(short_EMA)\n",
    "    CoinInfo['short_diff_EMA'].append(short_diff_EMA)\n",
    "    MACD = round(CoinInfo['short_EMA'][-1] - CoinInfo['long_EMA'][-1], 3)\n",
    "    signal = short_diff_EMA * (short_EMA - long_EMA)\n",
    "    CoinInfo['macds'].append(MACD)\n",
    "    if len(CoinInfo['macds']) > 10 and MACD - signal > -0.6 and MACD - signal < 0.6:\n",
    "        CoinInfo['buySignal'][1] = True\n",
    "        \n",
    "def Stochastic(CoinInfo):\n",
    "    priceLock = CoinInfo['prices'][-1]\n",
    "    minimum = min(CoinInfo['prices'][:15])\n",
    "    maximum = max(CoinInfo['prices'][:15])\n",
    "    Stoch = (priceLock - minimum) / (maximum - minimum) * 100\n",
    "    CoinInfo['stoch'].append(Stoch)\n",
    "    if len(CoinInfo['stoch']) > 10 and Stoch < 20:\n",
    "        CoinInfo['buySignal'][2] = True"
   ]
  },
  {
   "cell_type": "markdown",
   "metadata": {},
   "source": []
  },
  {
   "cell_type": "code",
   "execution_count": null,
   "metadata": {},
   "outputs": [],
   "source": [
    "def buy(coinInfo):\n",
    "    try:\n",
    "        now = datetime.now()\n",
    "        precision = get_precision(coinInfo['symbol'])\n",
    "        if precision == 0 or precision == None:\n",
    "            precision = 1\n",
    "        else:\n",
    "            precision = int(precision)\n",
    "        x = round(coinInfo['prices'][-1], precision)\n",
    "        if x > 0:\n",
    "            qty = partOfBalance / x\n",
    "            qty = round(qty, precision)\n",
    "            print(qty)\n",
    "            order = client.create_order(\n",
    "                symbol=coinInfo['symbol'],\n",
    "                side=Client.SIDE_BUY,\n",
    "                type=Client.ORDER_TYPE_MARKET,\n",
    "                quantity=qty\n",
    "            )\n",
    "            print(\"Bouth \", coinInfo['symbol'], ' price ', coinInfo['prices'][-1])\n",
    "            Ticket = {\n",
    "                'symbol' : coinInfo['symbol'],\n",
    "                'price' : coinInfo['prices'][-1],\n",
    "                'qty' : qty,\n",
    "                'time' : now,\n",
    "                'sold' : False,\n",
    "                'status' : ''\n",
    "            }\n",
    "            tickets.append(Ticket)\n",
    "    except Exception as E:\n",
    "        print(E)\n",
    "        print(x)\n",
    "        print(precision)\n",
    "        print(coinInfo['symbol'])\n",
    "\n",
    "\n",
    "def sell(ticket):\n",
    "    try:\n",
    "        order = client.order_market_sell(\n",
    "            symbol=ticket['symbol'],\n",
    "            quantity=ticket['qty']\n",
    "            )\n",
    "        print('Sold ', ticket['symbol'])\n",
    "        ticket['sold'] = True\n",
    "    except Exception as E:\n",
    "        print(E)"
   ]
  },
  {
   "cell_type": "code",
   "execution_count": null,
   "metadata": {},
   "outputs": [],
   "source": [
    "def appendPrices(coinInfo):\n",
    "    coin = coinInfo['symbol']\n",
    "    price = float(tickers.loc[tickers['symbol'] == f'{coin}']['price'])\n",
    "    coinInfo['prices'].append(price)"
   ]
  },
  {
   "cell_type": "code",
   "execution_count": null,
   "metadata": {},
   "outputs": [],
   "source": [
    "def makeCoinsJson(symbol):\n",
    "    precision = get_precision(symbol)\n",
    "    if precision == 0 or precision == None:\n",
    "        precision = 1\n",
    "    else:\n",
    "        precision = int(precision)\n",
    "\n",
    "    coinInfo = {\n",
    "        'symbol' : symbol,\n",
    "        'prices' : [],\n",
    "        'avg_gain' : [],\n",
    "        'avg_loss' : [],\n",
    "        'rsis' : [],\n",
    "        'macds' : [],\n",
    "        'long_EMA' : [],\n",
    "        'short_EMA' : [],\n",
    "        'short_diff_EMA' : [],\n",
    "        'stoch' : [],\n",
    "        'buySignal' : [False, False, False],\n",
    "        'precision' : precision\n",
    "    }\n",
    "    coinInfos.append(coinInfo)"
   ]
  },
  {
   "cell_type": "code",
   "execution_count": null,
   "metadata": {},
   "outputs": [],
   "source": [
    "def checkIndicators(coinInfo):\n",
    "    global signalCounter\n",
    "    if len(coinInfo['prices']) > 2:\n",
    "        Rsis(coinInfo)\n",
    "    if len(coinInfo['prices']) > 30:\n",
    "        Mcds(coinInfo)\n",
    "    if len(coinInfo['prices']) > 15:\n",
    "        Stochastic(coinInfo)\n",
    "    for i in coinInfo['buySignal']:\n",
    "        if i == True:\n",
    "            signalCounter += 1\n",
    "        if signalCounter >= 2:\n",
    "            buy(coinInfo)\n",
    "            signalCounter = 0\n",
    "            coinInfo['buySignal'] = [False, False, False]            "
   ]
  },
  {
   "cell_type": "code",
   "execution_count": null,
   "metadata": {},
   "outputs": [],
   "source": [
    "def makePlotBalance():\n",
    "    now = datetime.now()\n",
    "    plt.plot(*range(len(balances)), balances)\n",
    "    plt.savefig('report.png')"
   ]
  },
  {
   "cell_type": "code",
   "execution_count": null,
   "metadata": {},
   "outputs": [],
   "source": [
    "def makeStatistic(tickets):\n",
    "    counterLoss = 0\n",
    "    counterGain = 0\n",
    "    for i in tickets:\n",
    "        if i['status'] == 'loss':\n",
    "            counterLoss += 1\n",
    "        elif i['status'] == 'gain':\n",
    "            counterGain += 1\n",
    "        statistic = counterGain / counterLoss * 100\n",
    "        print('Statistic - ', statistic)\n",
    "    "
   ]
  },
  {
   "cell_type": "code",
   "execution_count": null,
   "metadata": {},
   "outputs": [],
   "source": [
    "for coin in whitelist:\n",
    "    makeCoinsJson(coin)"
   ]
  },
  {
   "cell_type": "code",
   "execution_count": null,
   "metadata": {},
   "outputs": [],
   "source": [
    "def checkTicketsToSell(tickets, price, symbol):\n",
    "    for ticket in tickets:\n",
    "        if ticket['symbol'] == symbol:\n",
    "            print('We waiting ', ticket['price'] + ticket['price'] * 0.005)\n",
    "            if price > ticket['price'] + ticket['price'] * 0.005:\n",
    "                sell(ticket)\n",
    "                ticket['status'] = 'gain'\n",
    "            elif price < ticket['price'] - ticket['price'] * 0.01:\n",
    "                sell(ticket)\n",
    "                ticket['status'] = 'loss'"
   ]
  },
  {
   "cell_type": "code",
   "execution_count": 14,
   "metadata": {},
   "outputs": [],
   "source": [
    "\n",
    "for i in range(1000):\n",
    "    for coinInfo in coinInfos:\n",
    "        appendPrices(coinInfo)\n",
    "        # balance = float(client.get_asset_balance(asset='USDT')['free'])\n",
    "        if len(coinInfo['prices']) > 10:\n",
    "            checkIndicators(coinInfo)\n",
    "            checkTicketsToSell(tickets, coinInfo['prices'][-1], coinInfo['symbol'][-1])\n",
    "        time.sleep(5)\n",
    "    makeStatistic(tickets)\n",
    "for ticket in tickets:\n",
    "    sell(ticket)\n",
    "\n",
    "df = pd.DataFrame(coinInfos)\n",
    "df"
   ]
  },
  {
   "cell_type": "code",
   "execution_count": null,
   "metadata": {},
   "outputs": [],
   "source": []
  }
 ],
 "metadata": {
  "kernelspec": {
   "display_name": "Python 3",
   "language": "python",
   "name": "python3"
  },
  "language_info": {
   "codemirror_mode": {
    "name": "ipython",
    "version": 3
   },
   "file_extension": ".py",
   "mimetype": "text/x-python",
   "name": "python",
   "nbconvert_exporter": "python",
   "pygments_lexer": "ipython3",
   "version": "3.11.6"
  }
 },
 "nbformat": 4,
 "nbformat_minor": 2
}
